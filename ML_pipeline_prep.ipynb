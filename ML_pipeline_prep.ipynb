{
  "nbformat": 4,
  "nbformat_minor": 0,
  "metadata": {
    "colab": {
      "name": "ML_pipeline_draft.ipynb",
      "provenance": [],
      "collapsed_sections": []
    },
    "kernelspec": {
      "name": "python3",
      "display_name": "Python 3"
    }
  },
  "cells": [
    {
      "cell_type": "markdown",
      "metadata": {
        "id": "RtRbFG-fYDjU"
      },
      "source": [
        "# ML Pipeline Preparation\r\n",
        "Follow the instructions below to help you create your ML pipeline.\r\n",
        "### 1. Import libraries and load data from database.\r\n",
        "- Import Python libraries\r\n",
        "- Load dataset from database with [`read_sql_table`](https://pandas.pydata.org/pandas-docs/stable/generated/pandas.read_sql_table.html)\r\n",
        "- Define feature and target variables X and Y"
      ]
    },
    {
      "cell_type": "code",
      "metadata": {
        "id": "haGVyHUaYF13"
      },
      "source": [
        "# import libraries\r\n",
        "import re\r\n",
        "import pickle\r\n",
        "import pandas as pd \r\n",
        "from sqlalchemy import create_engine\r\n",
        "import nltk \r\n",
        "from nltk.tokenize import word_tokenize \r\n",
        "from nltk.corpus import stopwords \r\n",
        "from nltk.stem import WordNetLemmatizer\r\n",
        "from sklearn.pipeline import Pipeline \r\n",
        "from sklearn.feature_extraction.text import CountVectorizer, TfidfTransformer\r\n",
        "from sklearn.multioutput import MultiOutputClassifier\r\n",
        "from sklearn.naive_bayes import MultinomialNB\r\n",
        "from sklearn.ensemble import RandomForestClassifier, AdaBoostClassifier\r\n",
        "from sklearn.model_selection import train_test_split,  GridSearchCV \r\n",
        "from sklearn.metrics import classification_report\r\n",
        "\r\n",
        "\r\n",
        "nltk.download(['wordnet', 'punkt', 'stopwords'])"
      ],
      "execution_count": null,
      "outputs": []
    },
    {
      "cell_type": "code",
      "metadata": {
        "id": "h5cDy8GeYH6V"
      },
      "source": [
        "# load data from database\r\n",
        "engine = create_engine('sqlite:///InsertDatabaseName.db')\r\n",
        "df = pd.read_sql_table('disaster_messages', 'sqlite:///InsertDatabaseName.db')\r\n",
        "X = df['message']  # Message Column\r\n",
        "Y = df.iloc[:, 4:] # Classification label"
      ],
      "execution_count": null,
      "outputs": []
    },
    {
      "cell_type": "markdown",
      "metadata": {
        "id": "KoMb5yaCYJ38"
      },
      "source": [
        "### 2. Write a tokenization function to process your text data"
      ]
    },
    {
      "cell_type": "code",
      "metadata": {
        "id": "3wTryDXzYLOL"
      },
      "source": [
        "def tokenize(text):\r\n",
        "    \"\"\"\r\n",
        "    Function: split text into words and return the root form of the words\r\n",
        "    Args:\r\n",
        "      text(str): the message\r\n",
        "    Return:\r\n",
        "      lemm(list of str): a list of the root form of the message words\r\n",
        "    \"\"\"\r\n",
        "    # Normalize text\r\n",
        "    text = re.sub(r\"[^a-zA-Z0-9]\", \" \", text.lower())\r\n",
        "    \r\n",
        "    # Tokenize text\r\n",
        "    words = word_tokenize(text)\r\n",
        "    \r\n",
        "    # Remove stop words\r\n",
        "    stop = stopwords.words(\"english\")\r\n",
        "    words = [t for t in words if t not in stop]\r\n",
        "    \r\n",
        "    # Lemmatization\r\n",
        "    lemm = [WordNetLemmatizer().lemmatize(w) for w in words]\r\n",
        "    return lemm"
      ],
      "execution_count": null,
      "outputs": []
    },
    {
      "cell_type": "markdown",
      "metadata": {
        "id": "QfldUulzYNJC"
      },
      "source": [
        "### 3. Build a machine learning pipeline\r\n",
        "This machine pipeline should take in the `message` column as input and output classification results on the other 36 categories in the dataset. You may find the [MultiOutputClassifier](http://scikit-learn.org/stable/modules/generated/sklearn.multioutput.MultiOutputClassifier.html) helpful for predicting multiple target variables."
      ]
    },
    {
      "cell_type": "code",
      "metadata": {
        "id": "2bgCsqRcYOiD"
      },
      "source": [
        "# Pipleine 1: Random Forest Classifier\r\n",
        "\r\n",
        "pipeline_rfc = Pipeline([\r\n",
        "        ('vect', CountVectorizer(tokenizer = tokenize)),\r\n",
        "        ('tfidf', TfidfTransformer()),\r\n",
        "        ('clf',  MultiOutputClassifier(RandomForestClassifier()))\r\n",
        "    ])\r\n",
        "\r\n",
        "\r\n",
        "# Pipeline 2: Naive Bayes classifier\r\n",
        "\r\n",
        "pipeline_nbc = Pipeline([\r\n",
        "        ('vect', CountVectorizer(tokenizer = tokenize)),\r\n",
        "        ('tfidf', TfidfTransformer()),\r\n",
        "        ('clf',  MultiOutputClassifier(MultinomialNB()))\r\n",
        "    ])\r\n",
        "\r\n",
        "\r\n",
        "# Pipleine 3: Adaboost Classifier \r\n",
        "\r\n",
        "pipeline_ada = Pipeline([\r\n",
        "        ('vect', CountVectorizer(tokenizer = tokenize)),\r\n",
        "        ('tfidf', TfidfTransformer()),\r\n",
        "        ('clf',  MultiOutputClassifier(AdaBoostClassifier()))\r\n",
        "    ])"
      ],
      "execution_count": null,
      "outputs": []
    },
    {
      "cell_type": "markdown",
      "metadata": {
        "id": "raYa55cSYRHb"
      },
      "source": [
        "### 4. Train pipeline\r\n",
        "- Split data into train and test sets\r\n",
        "- Train pipeline"
      ]
    },
    {
      "cell_type": "code",
      "metadata": {
        "id": "d3-czOAbYSmc"
      },
      "source": [
        "# Spiliting data\r\n",
        "X_train, X_test, y_train, y_test = train_test_split(X, Y)"
      ],
      "execution_count": null,
      "outputs": []
    },
    {
      "cell_type": "code",
      "metadata": {
        "id": "37XBvtuFYUaU"
      },
      "source": [
        "# Fit the Random Forest Classifier \r\n",
        "pipeline_rfc.fit(X_train, y_train)"
      ],
      "execution_count": null,
      "outputs": []
    },
    {
      "cell_type": "code",
      "metadata": {
        "id": "nW57lAxyYWF7"
      },
      "source": [
        "# Fit the Naive Bayes classifier \r\n",
        "pipeline_nbc.fit(X_train, y_train)"
      ],
      "execution_count": null,
      "outputs": []
    },
    {
      "cell_type": "code",
      "metadata": {
        "id": "HYGvuhB1YYh6"
      },
      "source": [
        "# Fit the Adaboost Classifier \r\n",
        "pipeline_ada.fit(X_train, y_train)"
      ],
      "execution_count": null,
      "outputs": []
    },
    {
      "cell_type": "markdown",
      "metadata": {
        "id": "KibOxwN_YZRL"
      },
      "source": [
        "### 5. Test your model\r\n",
        "Report the f1 score, precision and recall for each output category of the dataset. You can do this by iterating through the columns and calling sklearn's `classification_report` on each."
      ]
    },
    {
      "cell_type": "code",
      "metadata": {
        "id": "g-3-zwLYYaxH"
      },
      "source": [
        "def plot_scores(y_test, y_pred):\r\n",
        "    #Testing the model\r\n",
        "    # Printing the classification report for each label\r\n",
        "    i = 0\r\n",
        "    for col in y_test:\r\n",
        "        print('Feature {}: {}'.format(i+1, col))\r\n",
        "        print(classification_report(y_test[col], y_pred[:, i]))\r\n",
        "        i = i + 1\r\n",
        "    accuracy = (y_pred == y_test.values).mean()\r\n",
        "    print('The model accuracy is {:.3f}'.format(accuracy))"
      ],
      "execution_count": null,
      "outputs": []
    },
    {
      "cell_type": "code",
      "metadata": {
        "id": "AGrXJ4D4Yc2-"
      },
      "source": [
        "# Prediction: the Random Forest Classifier  \r\n",
        "y_pred = pipeline_rfc.predict(X_test)\r\n",
        "plot_scores(y_test, y_pred)"
      ],
      "execution_count": null,
      "outputs": []
    },
    {
      "cell_type": "code",
      "metadata": {
        "id": "KXTBab6nYfrl"
      },
      "source": [
        "# Prediction: the Naive Bayes classifier \r\n",
        "y_pred = pipeline_nbc.predict(X_test)\r\n",
        "plot_scores(y_test, y_pred)"
      ],
      "execution_count": null,
      "outputs": []
    },
    {
      "cell_type": "code",
      "metadata": {
        "id": "ZYPxlu9MYgM_"
      },
      "source": [
        "# Prediction: the Adaboost Classifier \r\n",
        "y_pred = pipeline_ada.predict(X_test)\r\n",
        "plot_scores(y_test, y_pred)"
      ],
      "execution_count": null,
      "outputs": []
    },
    {
      "cell_type": "markdown",
      "metadata": {
        "id": "sJqkXmWyYi7G"
      },
      "source": [
        "### 6. Improve your model\r\n",
        "Use grid search to find better parameters. "
      ]
    },
    {
      "cell_type": "code",
      "metadata": {
        "id": "NOsyfGzdYjS9"
      },
      "source": [
        "# Show parameters for the pipline\r\n",
        "pipeline_rfc.get_params()"
      ],
      "execution_count": null,
      "outputs": []
    },
    {
      "cell_type": "code",
      "metadata": {
        "id": "rG8AdesNYloo"
      },
      "source": [
        "# Show parameters for the pipline\r\n",
        "pipeline_ada.get_params()"
      ],
      "execution_count": null,
      "outputs": []
    },
    {
      "cell_type": "code",
      "metadata": {
        "id": "2TvM4QY-Ynt0"
      },
      "source": [
        "# Using grid search\r\n",
        "# Create Grid search parameters for Random Forest Classifier   \r\n",
        "parameters_rfc = {\r\n",
        "        'tfidf__use_idf': (True, False),\r\n",
        "        'clf__estimator__n_estimators': [10, 20]\r\n",
        "}\r\n",
        "\r\n",
        "cv_rfc = GridSearchCV(pipeline_rfc, param_grid = parameters_rfc)\r\n",
        "cv_rfc "
      ],
      "execution_count": null,
      "outputs": []
    },
    {
      "cell_type": "code",
      "metadata": {
        "id": "Zqk9v_k2YoLx"
      },
      "source": [
        "# Using grid search\r\n",
        "# Create Grid search parameters\r\n",
        "parameters_ada = {\r\n",
        "        'tfidf__use_idf': (True, False),\r\n",
        "        'clf__estimator__n_estimators': [50, 60, 70]\r\n",
        "}\r\n",
        "\r\n",
        "cv_ada = GridSearchCV(pipeline_ada, param_grid = parameters_ada)\r\n",
        "cv_ada"
      ],
      "execution_count": null,
      "outputs": []
    },
    {
      "cell_type": "markdown",
      "metadata": {
        "id": "t8KCXLPPYrei"
      },
      "source": [
        "### 7. Test your model\r\n",
        "Show the accuracy, precision, and recall of the tuned model.  \r\n",
        "\r\n",
        "Since this project focuses on code quality, process, and  pipelines, there is no minimum performance metric needed to pass. However, make sure to fine tune your models for accuracy, precision and recall to make your project stand out - especially for your portfolio!"
      ]
    },
    {
      "cell_type": "code",
      "metadata": {
        "id": "4jxeX34fYs3Z"
      },
      "source": [
        "# Fit the first tuned model\r\n",
        "cv_rfc.fit(X_train, y_train)"
      ],
      "execution_count": null,
      "outputs": []
    },
    {
      "cell_type": "code",
      "metadata": {
        "id": "909AR_MWYvSQ"
      },
      "source": [
        "# Fit the second tuned model\r\n",
        "cv_ada.fit(X_train, y_train)"
      ],
      "execution_count": null,
      "outputs": []
    },
    {
      "cell_type": "code",
      "metadata": {
        "id": "LOlR4o-ZYwpS"
      },
      "source": [
        "# Predicting using the first tuned model \r\n",
        "y_pred = cv_rfc.predict(X_test)\r\n",
        "plot_scores(y_test, y_pred)"
      ],
      "execution_count": null,
      "outputs": []
    },
    {
      "cell_type": "code",
      "metadata": {
        "id": "jhKffa6ZYxKb"
      },
      "source": [
        "# Predicting using the second tuned model \r\n",
        "y_pred = cv_ada.predict(X_test)\r\n",
        "plot_scores(y_test, y_pred)"
      ],
      "execution_count": null,
      "outputs": []
    },
    {
      "cell_type": "markdown",
      "metadata": {
        "id": "BQ3vJmXVYyzT"
      },
      "source": [
        "### 8. Try improving your model further. Here are a few ideas:\r\n",
        "* try other machine learning algorithms\r\n",
        "* add other features besides the TF-IDF"
      ]
    },
    {
      "cell_type": "markdown",
      "metadata": {
        "id": "68CDAriSY1Ux"
      },
      "source": [
        "### 9. Export your model as a pickle file"
      ]
    },
    {
      "cell_type": "code",
      "metadata": {
        "id": "xrjA7CnpY0jl"
      },
      "source": [
        "# Create a pickle file for the model\r\n",
        "file_name = 'classifier.pkl'\r\n",
        "with open (file_name, 'wb') as f:\r\n",
        "    pickle.dump(cv_ada, f)"
      ],
      "execution_count": null,
      "outputs": []
    },
    {
      "cell_type": "markdown",
      "metadata": {
        "id": "GDsHOemjZEu8"
      },
      "source": [
        "### 10. Use this notebook to complete `train.py`\r\n",
        "Use the template file attached in the Resources folder to write a script that runs the steps above to create a database and export a model based on a new dataset specified by the user."
      ]
    },
    {
      "cell_type": "code",
      "metadata": {
        "id": "uHESCeaEZFYj"
      },
      "source": [
        ""
      ],
      "execution_count": null,
      "outputs": []
    }
  ]
}